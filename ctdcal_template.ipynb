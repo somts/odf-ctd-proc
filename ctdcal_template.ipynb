{
 "cells": [
  {
   "cell_type": "markdown",
   "metadata": {},
   "source": [
    "## Template Jupyter Notebook for CTDCAL"
   ]
  },
  {
   "cell_type": "markdown",
   "metadata": {},
   "source": [
    "### Import Libraries"
   ]
  },
  {
   "cell_type": "code",
   "execution_count": null,
   "metadata": {},
   "outputs": [],
   "source": [
    "import os\n",
    "import time\n",
    "import sys\n",
    "sys.path.append('ctdcal/')\n",
    "import settings\n",
    "import ctdcal.process_ctd as process_ctd\n",
    "import ctdcal.fit_ctd as fit_ctd\n",
    "import pandas as pd\n",
    "import gsw\n",
    "import ctdcal.oxy_fitting as oxy_fitting\n",
    "import sbe_convert"
   ]
  },
  {
   "cell_type": "markdown",
   "metadata": {},
   "source": [
    "### Get Variables from settings.py"
   ]
  },
  {
   "cell_type": "code",
   "execution_count": null,
   "metadata": {},
   "outputs": [],
   "source": [
    "    # Directory and file information\n",
    "    expocode = settings.cruise['expocode']\n",
    "    sectionID = settings.cruise['sectionid']\n",
    "    raw_directory = settings.ctd_processing_dir['raw_data_directory']\n",
    "    time_directory = settings.ctd_processing_dir['time_data_directory']\n",
    "    converted_directory = settings.ctd_processing_dir['converted_directory']\n",
    "    pressure_directory = settings.ctd_processing_dir['pressure_data_directory']\n",
    "    oxygen_directory = settings.ctd_processing_dir['oxygen_directory']\n",
    "    btl_directory = settings.ctd_processing_dir['bottle_directory']\n",
    "    o2flask_file = settings.ctd_processing_dir['o2flask_file']\n",
    "    log_directory = settings.ctd_processing_dir['log_directory']\n",
    "    p_log_file = settings.ctd_processing_dir['pressure_log']\n",
    "    hex_prefix = settings.ctd_processing_dir['hex_prefix']\n",
    "    hex_postfix = settings.ctd_processing_dir['hex_postfix']\n",
    "    xml_prefix = settings.ctd_processing_dir['xml_prefix']\n",
    "    xml_postfix = settings.ctd_processing_dir['xml_postfix']\n",
    "    \n",
    "    # CTD Data Inputs\n",
    "    p_col = settings.ctd_inputs['p']\n",
    "    t_col = settings.ctd_inputs['t']\n",
    "    t1_col = settings.ctd_inputs['t1']\n",
    "    t2_col = settings.ctd_inputs['t2']\n",
    "    c_col = settings.ctd_inputs['c']\n",
    "    c1_col = settings.ctd_inputs['c1']\n",
    "    c2_col = settings.ctd_inputs['c2']\n",
    "    sal_col = settings.ctd_inputs['salt']\n",
    "    dov_col = settings.ctd_inputs['dov']\n",
    "    lat_col = settings.ctd_inputs['lat']\n",
    "    lon_col = settings.ctd_inputs['lon']\n",
    "    time_col = settings.ctd_inputs['scan_datetime']\n",
    "\n",
    "        # Bottle Data Inputs\n",
    "    p_btl_col = settings.bottle_inputs['p']\n",
    "    t_btl_col = settings.bottle_inputs['t']\n",
    "    t1_btl_col = settings.bottle_inputs['t1']\n",
    "    t2_btl_col = settings.bottle_inputs['t2']\n",
    "    c_btl_col = settings.bottle_inputs['c']\n",
    "    c1_btl_col = settings.bottle_inputs['c1']\n",
    "    c2_btl_col = settings.bottle_inputs['c2']\n",
    "    reft_col = settings.bottle_inputs['reft']\n",
    "    cond_col = settings.bottle_inputs['btl_cond']\n",
    "    cr_avg = settings.bottle_inputs['cond_ratio']\n",
    "    bath_temp = settings.bottle_inputs['bath_temp']\n",
    "    sal_btl_col = settings.bottle_inputs['salt']\n",
    "    dov_btl_col = settings.bottle_inputs['dov']\n",
    "    lat_btl_col = settings.bottle_inputs['lat']\n",
    "    lon_btl_col = settings.bottle_inputs['lon']\n",
    "    oxy_btl_col = settings.bottle_inputs['btl_oxy']\n",
    "    time_btl_col = settings.bottle_inputs['scan_datetime']\n",
    "    \n",
    "    # CTD Information    \n",
    "    sample_rate = settings.ctd_processing_constants['sample_rate']\n",
    "    search_time = settings.ctd_processing_constants['roll_filter_time']\n",
    "    ctd = settings.ctd_processing_constants['ctd_serial']\n",
    "    \n",
    "    p_column_names = settings.pressure_series_output['column_name']\n",
    "    p_column_units = settings.pressure_series_output['column_units']\n",
    "    \n",
    "    btl_data_prefix = 'data/bottle/'\n",
    "    btl_data_postfix = '_btl_mean.pkl'\n",
    "    time_data_prefix = 'data/time/'\n",
    "    time_data_postfix = '_time.pkl'\n",
    "    p_log_file = 'data/logs/ondeck_pressure.csv'\n",
    " \n",
    "\n",
    "    \n",
    "    # Columns from btl and ctd file to be read:\n",
    "    btl_cols = settings.btl_input_array\n",
    "    ctd_cols = settings.ctd_input_array\n",
    "    \n",
    "    ssscc = settings.ssscc\n",
    "\n",
    "#    time_start = time.perf_counter()\n",
    "    cnv_dir_list = os.listdir(converted_directory)\n",
    "    time_dir_list = os.listdir(time_directory)\n",
    "    btl_dir_list = os.listdir(btl_directory)"
   ]
  },
  {
   "cell_type": "markdown",
   "metadata": {},
   "source": [
    "### Get last cast from each station (optional)"
   ]
  },
  {
   "cell_type": "code",
   "execution_count": null,
   "metadata": {},
   "outputs": [],
   "source": [
    "import numpy as np\n",
    "ssscc_2 = []\n",
    "for x in ssscc:\n",
    "    ssscc_2.append(x[0:3])\n",
    "    \n",
    "arr, index, counts = np.unique(ssscc_2,return_index=True,return_counts=True)\n",
    "last_instance = counts - 1\n",
    "last_instance = list(last_instance + index)\n",
    "ssscc = np.array(ssscc)\n",
    "ssscc = list(ssscc[last_instance])\n",
    "\n"
   ]
  },
  {
   "cell_type": "markdown",
   "metadata": {},
   "source": [
    "### Remove any specific stations (optional)"
   ]
  },
  {
   "cell_type": "code",
   "execution_count": null,
   "metadata": {},
   "outputs": [],
   "source": [
    "#ssscc.remove('90202')"
   ]
  },
  {
   "cell_type": "markdown",
   "metadata": {},
   "source": [
    "### Convert SBE files to pkl"
   ]
  },
  {
   "cell_type": "code",
   "execution_count": null,
   "metadata": {},
   "outputs": [],
   "source": [
    "    for station in ssscc:\n",
    "        if '{}.pkl'.format(station) in cnv_dir_list:\n",
    "            continue\n",
    "        #convert hex to ctd\n",
    "        hex_file = hex_prefix + station + hex_postfix\n",
    "        xml_file = xml_prefix + station + xml_postfix\n",
    "        \n",
    "        sbe_convert.convert_sbe(station, hex_file, xml_file, converted_directory)\n",
    "        print('Converted_sbe SSSCC: ' + station + ' done')"
   ]
  },
  {
   "cell_type": "markdown",
   "metadata": {},
   "source": [
    "### Create Time files"
   ]
  },
  {
   "cell_type": "code",
   "execution_count": null,
   "metadata": {},
   "outputs": [],
   "source": [
    "    for station in ssscc:\n",
    "        if '{}_time.pkl'.format(station) in time_dir_list:\n",
    "            continue\n",
    "        sbe_convert.sbe_metadata(station)\n",
    "        print('sbe_metadata SSSCC: ' + station + ' done')"
   ]
  },
  {
   "cell_type": "markdown",
   "metadata": {},
   "source": [
    "### Create Bottle files"
   ]
  },
  {
   "cell_type": "code",
   "execution_count": null,
   "metadata": {},
   "outputs": [],
   "source": [
    "    for station in ssscc:\n",
    "        if '{}_btl_mean.pkl'.format(station) in btl_dir_list:\n",
    "            continue\n",
    "        #process bottle file\n",
    "        sbe_convert.process_bottle(station)\n",
    "        print('process_bottle SSSCC: ' + station + ' done')"
   ]
  },
  {
   "cell_type": "markdown",
   "metadata": {},
   "source": [
    "### Load all btl and ctd files"
   ]
  },
  {
   "cell_type": "code",
   "execution_count": null,
   "metadata": {},
   "outputs": [],
   "source": [
    "    btl_data_all = process_ctd.load_all_ctd_files(ssscc,btl_data_prefix,\n",
    "                                                  btl_data_postfix,'bottle',btl_cols)\n",
    "    time_data_all = process_ctd.load_all_ctd_files(ssscc,time_data_prefix,\n",
    "                                                   time_data_postfix,'time',ctd_cols)"
   ]
  },
  {
   "cell_type": "markdown",
   "metadata": {},
   "source": [
    "### Create and apply pressure offset"
   ]
  },
  {
   "cell_type": "code",
   "execution_count": null,
   "metadata": {},
   "outputs": [],
   "source": [
    "    pressure_log = process_ctd.load_pressure_logs(p_log_file)\n",
    "    p_off = process_ctd.get_pressure_offset(pressure_log.ondeck_start_p,pressure_log.ondeck_end_p)\n",
    "    \n",
    "    btl_data_all[p_btl_col] = fit_ctd.apply_pressure_offset(btl_data_all[p_btl_col], p_off)\n",
    "    time_data_all[p_col] = fit_ctd.apply_pressure_offset(time_data_all[p_col],p_off)"
   ]
  },
  {
   "cell_type": "markdown",
   "metadata": {},
   "source": [
    "### Temperature Calibration"
   ]
  },
  {
   "cell_type": "code",
   "execution_count": null,
   "metadata": {},
   "outputs": [],
   "source": [
    "    df_ques_t1 = pd.DataFrame()\n",
    "    df_ques_t2 = pd.DataFrame()\n",
    "    \n",
    "    df_ques_c1 = pd.DataFrame()\n",
    "    df_ques_c2 = pd.DataFrame()\n",
    "\n",
    "    ### Temperature Calibration   \n",
    "    for x in range(2):\n",
    "        \n",
    "     # Second order calibration\n",
    "             \n",
    "        df_temp_good = process_ctd.prepare_fit_data(btl_data_all, reft_col)\n",
    "        \n",
    "        df_ques_reft = process_ctd.quality_check(df_temp_good[t2_btl_col], df_temp_good[t1_btl_col], df_temp_good[p_btl_col], df_temp_good['SSSCC'], df_temp_good['btl_fire_num'], 'quest')\n",
    "        df_ques_reft['Parameter'] = 'REF_TEMP'\n",
    "        \n",
    "\n",
    "\n",
    "        if settings.do_primary == 1:\n",
    "            coef_temp_1,df_ques_t1 = process_ctd.calibrate_param(df_temp_good[t1_btl_col], df_temp_good[reft_col], df_temp_good[p_btl_col], 'TP', 2, df_temp_good.SSSCC, df_temp_good.btl_fire_num, xRange='800:6000')\n",
    "            btl_data_all[t1_btl_col] = fit_ctd.temperature_polyfit(btl_data_all[t1_btl_col], btl_data_all[p_btl_col], coef_temp_1)\n",
    "            time_data_all[t1_col] = fit_ctd.temperature_polyfit(time_data_all[t1_col], time_data_all[p_col], coef_temp_1)\n",
    "        \n",
    "        if settings.do_secondary == 1:\n",
    "            coef_temp_2,df_ques_t2 = process_ctd.calibrate_param(df_temp_good[t2_btl_col], df_temp_good[reft_col], df_temp_good[p_btl_col], 'TP', 2, df_temp_good.SSSCC, df_temp_good.btl_fire_num, xRange='1500:6000')\n",
    "            btl_data_all[t2_btl_col] = fit_ctd.temperature_polyfit(btl_data_all[t2_btl_col], btl_data_all[p_btl_col], coef_temp_2)\n",
    "            time_data_all[t2_col] = fit_ctd.temperature_polyfit(time_data_all[t2_col], time_data_all[p_col], coef_temp_2)\n",
    "    \n",
    "    # Apply fitting coef to data\n",
    "  \n",
    "    # Construct Quality Flag file\n",
    "    \n",
    "        qual_flag_temp = process_ctd.combine_quality_flags([df_ques_reft,df_ques_t1,df_ques_t2])\n",
    "   \n",
    "    ## First order calibtation\n",
    "    \n",
    "        df_temp_good = process_ctd.prepare_fit_data(btl_data_all, reft_col)\n",
    "        \n",
    "#        df_ques_reft = process_ctd.quality_check(df_temp_good[t2_btl_col], df_temp_good[t1_btl_col], df_temp_good[p_btl_col], df_temp_good['SSSCC'], df_temp_good['btl_fire_num'], 'quest')\n",
    "#        df_ques_reft['Parameter'] = 'REF_TEMP'\n",
    "        if settings.do_primary == 1:\n",
    "            coef_temp_prim,df_ques_t1 = process_ctd.calibrate_param(df_temp_good[t1_btl_col], df_temp_good[reft_col], df_temp_good[p_btl_col], 'T', 1, df_temp_good.SSSCC, df_temp_good.btl_fire_num)\n",
    "            btl_data_all[t1_btl_col] = fit_ctd.temperature_polyfit(btl_data_all[t1_btl_col], btl_data_all[p_btl_col], coef_temp_prim)\n",
    "            time_data_all[t1_col] = fit_ctd.temperature_polyfit(time_data_all[t1_col], time_data_all[p_col], coef_temp_prim)\n",
    "        \n",
    "        if settings.do_secondary == 1:\n",
    "            coef_temp_sec,df_ques_t2 = process_ctd.calibrate_param(df_temp_good[t2_btl_col], df_temp_good[reft_col], df_temp_good[p_btl_col], 'T', 1, df_temp_good.SSSCC, df_temp_good.btl_fire_num)\n",
    "            btl_data_all[t2_btl_col] = fit_ctd.temperature_polyfit(btl_data_all[t2_btl_col], btl_data_all[p_btl_col], coef_temp_sec)\n",
    "            time_data_all[t2_col] = fit_ctd.temperature_polyfit(time_data_all[t2_col], time_data_all[p_col], coef_temp_sec)\n",
    "        \n",
    "        \n",
    "        \n",
    "    # Apply fitting coef to data\n",
    "            \n",
    "        qual_flag_temp = process_ctd.combine_quality_flags([df_ques_reft,df_ques_t1,df_ques_t2])"
   ]
  },
  {
   "cell_type": "markdown",
   "metadata": {},
   "source": [
    "### Conductivity Calibration"
   ]
  },
  {
   "cell_type": "code",
   "execution_count": null,
   "metadata": {},
   "outputs": [],
   "source": [
    "    for x in range(2):\n",
    "        \n",
    "        btl_data_all[cond_col] = fit_ctd.CR_to_cond(btl_data_all[cr_avg], btl_data_all[bath_temp], btl_data_all[t1_btl_col], btl_data_all[p_btl_col])\n",
    "        df_cond_good = process_ctd.prepare_fit_data(btl_data_all, cond_col)\n",
    "\n",
    "        df_ques_refc = process_ctd.quality_check(df_cond_good[c2_btl_col], df_cond_good[c1_btl_col], df_cond_good[p_btl_col], df_cond_good['SSSCC'], df_cond_good['btl_fire_num'], 'quest')\n",
    "        df_ques_refc['Parameter'] = 'REF_COND'\n",
    "\n",
    "    # Second Order Calibration\n",
    "        if settings.do_primary == 1:\n",
    "            coef_cond_1,df_ques_c1 = process_ctd.calibrate_param(df_cond_good[c1_btl_col], df_cond_good[cond_col], df_cond_good[p_btl_col], 'CP', 2, df_cond_good['SSSCC'], df_cond_good['btl_fire_num'], xRange='800:6000')\n",
    "            btl_data_all[c1_btl_col], btl_data_all[sal_btl_col] = fit_ctd.conductivity_polyfit(btl_data_all[c1_btl_col], btl_data_all[t1_btl_col], btl_data_all[p_btl_col], coef_cond_1)\n",
    "            time_data_all[c1_col],time_data_all[sal_col] = fit_ctd.conductivity_polyfit(time_data_all[c1_col], time_data_all[t1_col], time_data_all[p_col], coef_cond_1)\n",
    "        \n",
    "        if settings.do_secondary == 1:\n",
    "            coef_cond_2,df_ques_c2 = process_ctd.calibrate_param(df_cond_good[c2_btl_col], df_cond_good[cond_col], df_cond_good[p_btl_col], 'CP', 2, df_cond_good['SSSCC'], df_cond_good['btl_fire_num'], xRange='1500:6000')\n",
    "            btl_data_all[c2_btl_col], sal_2 = fit_ctd.conductivity_polyfit(btl_data_all[c2_btl_col], btl_data_all[t2_btl_col], btl_data_all[p_btl_col] ,coef_cond_2)\n",
    "            time_data_all[c2_btl_col],sal2 = fit_ctd.conductivity_polyfit(time_data_all[c2_col], time_data_all[t2_col], time_data_all[p_col], coef_cond_2)\n",
    "\n",
    "        qual_flag_cond = process_ctd.combine_quality_flags([df_ques_c1,df_ques_c2,df_ques_refc])\n",
    "    \n",
    "        \n",
    "        btl_data_all[cond_col] = fit_ctd.CR_to_cond(btl_data_all[cr_avg], btl_data_all[bath_temp], btl_data_all[t1_btl_col], btl_data_all[p_btl_col])\n",
    "        df_cond_good = process_ctd.prepare_fit_data(btl_data_all,cond_col)\n",
    "    \n",
    "        if settings.do_primary == 1:\n",
    "            coef_cond_prim,df_ques_c1 = process_ctd.calibrate_param(df_cond_good[c1_btl_col], df_cond_good[cond_col], df_cond_good[p_btl_col], 'C', 2 , df_cond_good['SSSCC'], df_cond_good['btl_fire_num'])\n",
    "            btl_data_all[c1_btl_col], btl_data_all[sal_btl_col] = fit_ctd.conductivity_polyfit(btl_data_all[c1_btl_col], btl_data_all[t1_btl_col], btl_data_all[p_btl_col], coef_cond_prim)        \n",
    "            time_data_all[c1_col],time_data_all[sal_col] = fit_ctd.conductivity_polyfit(time_data_all[c1_col], time_data_all[t1_col], time_data_all[p_col], coef_cond_prim)\n",
    "        \n",
    "        if settings.do_secondary == 1:\n",
    "            coef_cond_sec,df_ques_c2 = process_ctd.calibrate_param(df_cond_good.CTDCOND2,df_cond_good.BTLCOND,df_cond_good.CTDPRS,'C',2,df_cond_good.SSSCC,df_cond_good.btl_fire_num)\n",
    "            btl_data_all[c2_btl_col], sal_2 = fit_ctd.conductivity_polyfit(btl_data_all[c2_btl_col], btl_data_all[t2_btl_col], btl_data_all[p_btl_col], coef_cond_sec)\n",
    "            time_data_all[c2_col],sal2 = fit_ctd.conductivity_polyfit(time_data_all[c2_col], time_data_all[t2_col], time_data_all[p_col], coef_cond_sec)\n",
    "        \n",
    "    \n",
    "        qual_flag_cond = process_ctd.combine_quality_flags([df_ques_c1, df_ques_c2, df_ques_refc])"
   ]
  },
  {
   "cell_type": "markdown",
   "metadata": {},
   "source": [
    "### Oxygen Calibration"
   ]
  },
  {
   "cell_type": "code",
   "execution_count": null,
   "metadata": {},
   "outputs": [],
   "source": [
    "    # Calculate Sigma\n",
    "    btl_data_all['sigma_btl'] = oxy_fitting.sigma_from_CTD(btl_data_all[sal_btl_col], btl_data_all[t_btl_col], btl_data_all[p_btl_col], btl_data_all[lon_btl_col], btl_data_all[lat_btl_col])\n",
    "    time_data_all['sigma_ctd'] = oxy_fitting.sigma_from_CTD(time_data_all[sal_col], time_data_all[t_col], time_data_all[p_col], time_data_all[lon_col], time_data_all[lat_col])\n",
    "\n",
    "    btl_data_all[oxy_btl_col] = oxy_fitting.calculate_bottle_oxygen(ssscc, btl_data_all['SSSCC'], btl_data_all['TITR_VOL'], btl_data_all['TITR_TEMP'], btl_data_all['FLASKNO'])\n",
    "    btl_data_all[oxy_btl_col] = oxy_fitting.oxy_ml_to_umolkg(btl_data_all[oxy_btl_col], btl_data_all['sigma_btl'])\n",
    "\n",
    "    # Calculate SA and PT\n",
    "    btl_data_all['SA'] = gsw.SA_from_SP(btl_data_all[sal_btl_col], btl_data_all[p_btl_col], btl_data_all[lon_btl_col], btl_data_all[lat_btl_col])\n",
    "    btl_data_all['PT'] = gsw.pt0_from_t(btl_data_all['SA'], btl_data_all[t_btl_col], btl_data_all[p_btl_col])\n",
    "\n",
    "    time_data_all['SA'] = gsw.SA_from_SP(time_data_all[sal_col], time_data_all[p_col], time_data_all[lon_col], time_data_all[lat_col])\n",
    "    time_data_all['PT'] = gsw.pt0_from_t(time_data_all['SA'], time_data_all[t_col], time_data_all[p_col])\n",
    "\n",
    "    # Calculate OS in µmol/kg\n",
    "\n",
    "    btl_data_all['OS_btl'] = oxy_fitting.os_umol_kg(btl_data_all['SA'], btl_data_all['PT'])\n",
    "    time_data_all['OS_ctd'] = oxy_fitting.os_umol_kg(time_data_all['SA'], time_data_all['PT'])   \n",
    "\n",
    "    oxy_df = pd.DataFrame()\n",
    "    coef_dict = {}\n",
    "    for station in ssscc:\n",
    "        btl_data = btl_data_all[btl_data_all['SSSCC'] == station]\n",
    "        time_data = time_data_all[time_data_all['SSSCC'] == station]\n",
    "    \n",
    "        hex_file = hex_prefix + station + hex_postfix\n",
    "        xml_file = xml_prefix + station + xml_postfix\n",
    "        coef0 = oxy_fitting.get_SB_coef(hex_file, xml_file)\n",
    "        cfw_coef, df = oxy_fitting.oxy_fit(btl_data[p_btl_col], btl_data[oxy_btl_col], \n",
    "                                           btl_data['sigma_btl'], time_data['sigma_ctd'], \n",
    "                                           time_data['OS_ctd'], time_data[p_col], \n",
    "                                           time_data[t_col], time_data[dov_col], \n",
    "                                           time_data[time_col], coef0)\n",
    "        df['SSSCC'] = station\n",
    "        coef_dict[station] = cfw_coef\n",
    "        oxy_df = pd.concat([oxy_df,df])\n",
    "        \n",
    "        print(station, ' Completed')\n",
    "        \n",
    "    coef_df = oxy_fitting.create_coef_df(coef_dict)\n",
    "    oxy_df = oxy_fitting.flag_oxy_data(oxy_df)"
   ]
  },
  {
   "cell_type": "code",
   "execution_count": null,
   "metadata": {},
   "outputs": [],
   "source": [
    "    # Merge oxygen fitting DF to btl_data_all\n",
    "    \n",
    "    btl_data_all = oxy_fitting.merge_oxy_df(btl_data_all,oxy_df)\n",
    "    \n",
    "    # Apply coef to Time Data\n",
    "    \n",
    "    time_data_all = oxy_fitting.apply_oxygen_coef_ctd(time_data_all, coef_df, ssscc)"
   ]
  },
  {
   "cell_type": "markdown",
   "metadata": {},
   "source": [
    "### Export Data"
   ]
  },
  {
   "cell_type": "code",
   "execution_count": null,
   "metadata": {},
   "outputs": [],
   "source": [
    "btl_data_all = process_ctd.merge_cond_flags(btl_data_all,qual_flag_cond)\n",
    "\n",
    "btl_data_all = process_ctd.merge_refcond_flags(btl_data_all,qual_flag_cond)\n",
    "\n",
    "btl_data_all = process_ctd.merged_reftemp_flags(btl_data_all,qual_flag_temp)"
   ]
  },
  {
   "cell_type": "code",
   "execution_count": null,
   "metadata": {},
   "outputs": [],
   "source": [
    "    qual_flag_temp.to_csv('data/logs/qual_flag_temp_new.csv',index=False)\n",
    "    qual_flag_cond.to_csv('data/logs/qual_flag_cond_new.csv',index=False)\n",
    "    # Added to avoid new pull request (put in function later)\n",
    "    coef_df['Station'] = coef_df.index\n",
    "    coef_df = coef_df[['Station','Soc','Voffset','A','B','C','E','Tau20']]\n",
    "    coef_df.to_csv('data/logs/oxygen_coef.csv',index=False)\n",
    "    \n",
    "### Clean up Bottle Data by removing rows with no ctd data\n",
    "    \n",
    "    btl_data_all =  btl_data_all.dropna(subset=btl_cols)\n",
    "\n",
    "### Add DATE and TIME to btl_data\n",
    "    btl_data_all['DATE'] = ''\n",
    "    btl_data_all['TIME'] = ''\n",
    "    for station in ssscc:\n",
    "        df = btl_data_all.loc[btl_data_all['SSSCC'] == station].copy()\n",
    "        btl_data_all.loc[btl_data_all['SSSCC'] == station] = process_ctd.get_btl_time(df,'btl_fire_num',time_col)\n",
    "### Create CT Files and HY files"
   ]
  },
  {
   "cell_type": "code",
   "execution_count": null,
   "metadata": {},
   "outputs": [],
   "source": [
    "    \n",
    "    \n",
    "    process_ctd.export_btl_data(btl_data_all,expocode,sectionID,expocode)\n",
    "    process_ctd.export_time_data(time_data_all,ssscc,int(sample_rate),int(search_time),expocode,sectionID,ctd,p_column_names,p_column_units)"
   ]
  }
 ],
 "metadata": {
  "kernelspec": {
   "display_name": "Python 3",
   "language": "python",
   "name": "python3"
  },
  "language_info": {
   "codemirror_mode": {
    "name": "ipython",
    "version": 3
   },
   "file_extension": ".py",
   "mimetype": "text/x-python",
   "name": "python",
   "nbconvert_exporter": "python",
   "pygments_lexer": "ipython3",
   "version": "3.6.3"
  }
 },
 "nbformat": 4,
 "nbformat_minor": 2
}
